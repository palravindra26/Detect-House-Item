{
 "cells": [
  {
   "cell_type": "code",
   "execution_count": null,
   "metadata": {
    "colab": {
     "base_uri": "https://localhost:8080/",
     "height": 36
    },
    "colab_type": "code",
    "id": "XiR9P9KF3KDW",
    "outputId": "648198ea-c672-4d53-eae3-0b3c1689c773"
   },
   "outputs": [
    {
     "data": {
      "application/vnd.google.colaboratory.intrinsic": {
       "type": "string"
      },
      "text/plain": [
       "'/device:GPU:0'"
      ]
     },
     "execution_count": 18,
     "metadata": {
      "tags": []
     },
     "output_type": "execute_result"
    }
   ],
   "source": [
    "import tensorflow as tf\n",
    "tf.test.gpu_device_name()"
   ]
  },
  {
   "cell_type": "code",
   "execution_count": null,
   "metadata": {
    "colab": {},
    "colab_type": "code",
    "id": "bfHTc2oFoRVi"
   },
   "outputs": [],
   "source": [
    "!pip install openimages"
   ]
  },
  {
   "cell_type": "code",
   "execution_count": null,
   "metadata": {
    "colab": {},
    "colab_type": "code",
    "id": "dFEjahF6Rp-u"
   },
   "outputs": [],
   "source": [
    "from downloadOI import DownloadOI"
   ]
  },
  {
   "cell_type": "code",
   "execution_count": null,
   "metadata": {
    "colab": {},
    "colab_type": "code",
    "id": "r6kkhDf_pR3p"
   },
   "outputs": [],
   "source": [
    "classes = ['Bookcase','Bathtub', 'Pillow' ,'Couch', 'Gas stove', 'Washing machine' ,'Bed',\n",
    " 'Refrigerator', 'Bathroom accessory', 'Kitchen & dining room table',\n",
    " 'Television' ,'Sink' ,'Sofa bed' ,'Kitchenware' ,'Toilet' ,'Ceiling fan',\n",
    " 'Microwave oven', 'Furniture', 'Coffeemaker', 'Cupboard', 'Dishwasher',\n",
    " 'Shower' ,'Clock' ,'Countertop' ,'Mug', 'Table']\n",
    "\n",
    "data_path = 'content/data'\n",
    "csv_path = 'content/data/files'\n",
    "limit = 100"
   ]
  },
  {
   "cell_type": "code",
   "execution_count": null,
   "metadata": {
    "colab": {},
    "colab_type": "code",
    "id": "OhipfrmxA-Q0"
   },
   "outputs": [],
   "source": [
    "%mkdir data\n",
    "%cd data\n",
    "%mkdir files\n",
    "%cd files\n",
    "!wget https://storage.googleapis.com/openimages/v5/test-annotations-bbox.csv\n",
    "!wget https://storage.googleapis.com/openimages/v5/validation-annotations-bbox.csv\n",
    "!wget https://storage.googleapis.com/openimages/2018_04/train/train-annotations-bbox.csv\n",
    "!wget https://storage.googleapis.com/openimages/v5/class-descriptions-boxable.csv\n",
    "%cd ..\n",
    "%cd .."
   ]
  },
  {
   "cell_type": "code",
   "execution_count": null,
   "metadata": {
    "colab": {},
    "colab_type": "code",
    "id": "5Q4-zgF3o7Pl"
   },
   "outputs": [],
   "source": [
    "download_dataset = DownloadOI(classes, data_path, csv_path, limit)"
   ]
  },
  {
   "cell_type": "code",
   "execution_count": null,
   "metadata": {
    "colab": {},
    "colab_type": "code",
    "id": "7PBY_TXdXLEB"
   },
   "outputs": [],
   "source": [
    "download_dataset.form_dataset()"
   ]
  },
  {
   "cell_type": "code",
   "execution_count": null,
   "metadata": {
    "colab": {},
    "colab_type": "code",
    "id": "ZjpvM4nBtnDz"
   },
   "outputs": [],
   "source": [
    "!git clone https://github.com/fizyr/keras-retinanet.git\n",
    "%cd keras-retinanet/\n",
    "!pip install .\n",
    "!python setup.py build_ext --inplace\n",
    "%cd .."
   ]
  },
  {
   "cell_type": "code",
   "execution_count": null,
   "metadata": {
    "colab": {},
    "colab_type": "code",
    "id": "djuX_-smW01z"
   },
   "outputs": [],
   "source": [
    "import urllib\n",
    "\n",
    "PRETRAINED_MODEL = 'keras-retinanet/snapshots/_pretrained_model.h5'\n",
    "\n",
    "URL_MODEL = 'https://github.com/fizyr/keras-retinanet/releases/download/0.5.1/resnet50_coco_best_v2.1.0.h5'\n",
    "urllib.request.urlretrieve(URL_MODEL, PRETRAINED_MODEL)"
   ]
  },
  {
   "cell_type": "code",
   "execution_count": null,
   "metadata": {
    "colab": {},
    "colab_type": "code",
    "id": "6DOsUHbEMJDp"
   },
   "outputs": [],
   "source": [
    "PRETRAINED_MODEL = '/content/snapshots/resnet50_csv_11.h5'"
   ]
  },
  {
   "cell_type": "code",
   "execution_count": null,
   "metadata": {
    "colab": {},
    "colab_type": "code",
    "id": "hoPIvWaDEj02"
   },
   "outputs": [],
   "source": [
    "!keras-retinanet/keras_retinanet/bin/train.py  --freeze-backbone --weights {PRETRAINED_MODEL} --initial-epoch 8 --weighted-average --batch-size 16 --steps 247 --snapshot-path /content/snapshots --image-min-side 250 csv /content/data/annotation/train.csv /content/data/classes/classes.csv"
   ]
  },
  {
   "cell_type": "code",
   "execution_count": null,
   "metadata": {
    "colab": {},
    "colab_type": "code",
    "id": "eFSZ98ae3Jfy"
   },
   "outputs": [],
   "source": []
  }
 ],
 "metadata": {
  "accelerator": "GPU",
  "colab": {
   "collapsed_sections": [],
   "name": "training.ipynb",
   "provenance": []
  },
  "kernelspec": {
   "display_name": "Python 3",
   "language": "python",
   "name": "python3"
  },
  "language_info": {
   "codemirror_mode": {
    "name": "ipython",
    "version": 3
   },
   "file_extension": ".py",
   "mimetype": "text/x-python",
   "name": "python",
   "nbconvert_exporter": "python",
   "pygments_lexer": "ipython3",
   "version": "3.7.6"
  }
 },
 "nbformat": 4,
 "nbformat_minor": 1
}
