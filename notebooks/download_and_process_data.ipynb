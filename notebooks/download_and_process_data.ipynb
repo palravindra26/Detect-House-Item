{
  "nbformat": 4,
  "nbformat_minor": 0,
  "metadata": {
    "colab": {
      "name": "download and process data 2.ipynb",
      "provenance": [],
      "collapsed_sections": []
    },
    "kernelspec": {
      "name": "python3",
      "display_name": "Python 3"
    }
  },
  "cells": [
    {
      "cell_type": "code",
      "metadata": {
        "id": "hVYP0PEb490v",
        "colab_type": "code",
        "colab": {}
      },
      "source": [
        "#download openimages module to download Open Images Dataset\n",
        "!pip install openimages"
      ],
      "execution_count": null,
      "outputs": []
    },
    {
      "cell_type": "code",
      "metadata": {
        "id": "BRy4vJ9E5Ubh",
        "colab_type": "code",
        "colab": {}
      },
      "source": [
        "# Import required modules\n",
        "\n",
        "import os\n",
        "import shutil\n",
        "\n",
        "from openimages.download import download_images\n",
        "\n",
        "import cv2\n",
        "from PIL import Image\n",
        "\n",
        "import pandas as pd"
      ],
      "execution_count": null,
      "outputs": []
    },
    {
      "cell_type": "code",
      "metadata": {
        "id": "dxU5_vbB5yFl",
        "colab_type": "code",
        "colab": {}
      },
      "source": [
        "class DownloadOI:\n",
        "  def __init__(self, classes, data_path, csv_path):\n",
        "    '''\n",
        "    params : \n",
        "      classes : list of all the required labels need to download\n",
        "      data_path : path where the data files need to be stored\n",
        "      csv_path : path where the csv files are stored\n",
        "    '''\n",
        "\n",
        "    self.classes = classes\n",
        "    self.data_path = data_path\n",
        "    self.csv_path = csv_path\n",
        "\n",
        "  def create_classes_csv(self):\n",
        "    '''\n",
        "    This function will create a csv file containing\n",
        "    class name along with their labels\n",
        "    '''\n",
        "    os.mkdir(f'/{self.data_path}/classes')\n",
        "\n",
        "    classes_dict = {'class_name':[], 'id':[]}\n",
        "\n",
        "    for id, name in enumerate(self.classes):\n",
        "      classes_dict['class_name'].append(name)\n",
        "      classes_dict['id'].append(id)\n",
        "\n",
        "    classes_df = pd.DataFrame(classes)\n",
        "    classes_df.to_csv(f'/{self.data_path}/classes/classes.csv', index=False)\n",
        "\n",
        "  def download_OI_images(self):\n",
        "    '''\n",
        "    This function will download the images from open images since the\n",
        "    openimages modules download images in 'data_path/images/class_name/images'\n",
        "    this function will copy all the images from class_name/images to \n",
        "    data_path/images and delete class_name folder\n",
        "    '''\n",
        "\n",
        "    #Download Data\n",
        "    download_images(f\"/{data_path}/images\", total_items, None, csv_dir=self.csv_path)\n",
        "\n",
        "    dest_path = f'/{self.data_path}/images/'\n",
        "\n",
        "    #Copy files from data_path/images/class_name/images to data_path/images/\n",
        "    for class_name in self.classes:\n",
        "      for file in os.listdir(f\"/{self.data_path}/images/{class_name.lower()}/images\"):\n",
        "        if os.path.isfile(f'/{self.data_path}/images/{file}'):\n",
        "          continue\n",
        "        src_path = f\"/{self.data_path}/images/{class_name.lower()}/images/{file}\"\n",
        "        shutil.move(src_path, dest_path)\n",
        "\n",
        "    #Delete data_path/images/class_name/ folders\n",
        "    for class_name in self.classes:\n",
        "      shutil.rmtree(f'/{self.data_path}/images/{class_name.lower()}/')\n",
        "\n",
        "  def form_annotation_file(self, df, save_dest=None, name='file_name'):\n",
        "    '''\n",
        "    This function form annotation csv file as required by keras-retina.\n",
        "    Params:\n",
        "      df: pandas Dataframe \n",
        "      save_dest: path where to store the csv file\n",
        "      name: name of the file\n",
        "\n",
        "    Note:\n",
        "      if save_dest is None this function will return pandas DataFrame\n",
        "    '''\n",
        "\n",
        "    annotation = {\n",
        "      'location': [],\n",
        "      'x1': [],\n",
        "      'y1': [],\n",
        "      'x2': [],\n",
        "      'y2': [],\n",
        "      'class_name': []\n",
        "    }\n",
        "\n",
        "    id_to_class, id_list = self.create_dict_id_class()\n",
        "    name_of_images = self.images_in_dir()\n",
        "\n",
        "    new_df = df[df['LabelName'].isin(id_list)].reset_index()\n",
        "    new_df = new_df[new_df['ImageID'].isin(name_of_images)].reset_index()\n",
        "\n",
        "    for i in range(new_df.shape[0]):\n",
        "      image_id = new_df.loc[i]['ImageID']\n",
        "      id_name = new_df.loc[i]['LabelName']\n",
        "\n",
        "      class_name = id_to_class[id_name]\n",
        "      path = f'/{self.data_path}/images/{image_id}.jpg'\n",
        "\n",
        "      x1 = new_df.loc[i]['XMin']\n",
        "      x2 = new_df.loc[i]['XMax']\n",
        "      y1 = new_df.loc[i]['YMin']\n",
        "      y2 = new_df.loc[i]['YMax']\n",
        "\n",
        "      with Image.open(path) as img:\n",
        "        width, height = img.width, img.height\n",
        "\n",
        "      x1 = int(round(x1 * width))\n",
        "      x2 = int(round(x2 * width))\n",
        "      y1 = int(round(y1 * height))\n",
        "      y2 = int(round(y2 * height))\n",
        "\n",
        "      annotation['location'].append(path)\n",
        "      annotation['x1'].append(x1)\n",
        "      annotation['x2'].append(x2)\n",
        "      annotation['y1'].append(y1)\n",
        "      annotation['y2'].append(y2)\n",
        "      annotation['class_name'].append(class_name)\n",
        "\n",
        "    if save_dest==None:\n",
        "      return pd.DataFrame(annotation)\n",
        "    else:\n",
        "      df = pd.DataFrame(annotation)\n",
        "      df.to_csv(save_dest+'/'+name+'.csv', index=False)\n",
        "\n",
        "  def create_annotations_csv(self):\n",
        "    '''\n",
        "    This function will create different annotation file for \n",
        "    train, test and validation\n",
        "    '''\n",
        "\n",
        "    os.mkdir(f'/{self.data_path}/annotation')\n",
        "  \n",
        "    train_file = pd.read_csv(f'/{self.csv_path}/train-annotations-bbox.csv')\n",
        "    test_file = pd.read_csv(f'/{self.csv_path}/test-annotations-bbox.csv')\n",
        "    validation_file = pd.read_csv(f'/{self.csv_path}/validation-annotations-bbox.csv')\n",
        "  \n",
        "    save_path = f'/{self.data_path}/annotation'\n",
        "\n",
        "    self.form_annotation_file(train_file, save_dest=save_path, name='train')\n",
        "    self.form_annotation_file(test_file, save_dest=save_path, name='test')\n",
        "    self.form_annotation_file(validation_file, save_dest=save_path, name='valudation')\n",
        "\n",
        "  def form_dataset(self):\n",
        "    '''\n",
        "    This function will create all the required files for the training\n",
        "    '''\n",
        "\n",
        "    self.download_OI_images()\n",
        "    print('Images Downloaded')\n",
        "\n",
        "    self.create_classes_csv()\n",
        "    print('classes.csv file created!')\n",
        "\n",
        "    self.create_annotations_csv()\n",
        "    print('Annotations files created')\n",
        "\n",
        "  def create_dict_id_class(self):\n",
        "    '''\n",
        "    This function will create and return a dictionary which contains\n",
        "    id as key and class as values and list of ids\n",
        "    '''\n",
        "\n",
        "    class_desc = pd.read_csv(f'/{self.csv_path}/class-descriptions-boxable.csv', names=['id', 'name'])\n",
        "\n",
        "    id_list = []\n",
        "    for class_name in self.classes:\n",
        "      id_list.append(class_desc[class_desc['name']==class_name]['id'].values[0])\n",
        "\n",
        "    id_to_class = dict()\n",
        "    for class_name, id_name  in zip(self.classes, id_list):\n",
        "      id_to_class[id_name] = class_name\n",
        "\n",
        "    return id_to_class, id_list\n",
        "\n",
        "  def images_in_dir(self):\n",
        "    name_of_images = []\n",
        "    for class_name in self.classes:\n",
        "      for file in os.listdir(f\"/content/data/images/\"):\n",
        "        name_of_images.append(file[:-4])\n",
        "    return name_of_images\n"
      ],
      "execution_count": null,
      "outputs": []
    },
    {
      "cell_type": "code",
      "metadata": {
        "id": "HUt2yDJB-_Yt",
        "colab_type": "code",
        "colab": {}
      },
      "source": [
        "classes = ['Bookcase', 'Toaster', 'Wood-burning stove', 'Telephone', 'Bathtub', 'Pillow', 'Couch', 'Mirror', 'Gas stove', 'Washing machine', 'Bed', 'Laptop', 'Refrigerator', 'Bathroom accessory', 'Kitchen & dining room table', 'Television', 'Kettle', 'Pressure cooker', 'Coffee table', 'Sink', 'Blender', 'Sofa bed', 'Kitchenware', 'Toilet', 'Ceiling fan', 'Microwave oven', 'Furniture', 'Heater', 'Coffeemaker', 'Cattle', 'Cupboard', 'Whiteboard', 'Dishwasher', 'Fireplace', 'Oven', 'Sewing machine', 'Shower', 'Table', 'Clock', 'Countertop', 'Towel', 'Mug']\n",
        "data_path = 'content/data'\n",
        "csv_path = 'content/data/files'"
      ],
      "execution_count": null,
      "outputs": []
    },
    {
      "cell_type": "code",
      "metadata": {
        "id": "LCuC4ZBa_XLn",
        "colab_type": "code",
        "colab": {}
      },
      "source": [
        "dataset = DownloadOI(classes, data_path, csv_path)"
      ],
      "execution_count": null,
      "outputs": []
    },
    {
      "cell_type": "code",
      "metadata": {
        "id": "81abQMb1GclL",
        "colab_type": "code",
        "colab": {
          "base_uri": "https://localhost:8080/",
          "height": 35
        },
        "outputId": "f674cf55-ac7a-4af1-ab57-4415fe164ff4"
      },
      "source": [
        "dataset.form_dataset()"
      ],
      "execution_count": null,
      "outputs": [
        {
          "output_type": "stream",
          "text": [
            "Annotations files created\n"
          ],
          "name": "stdout"
        }
      ]
    },
    {
      "cell_type": "code",
      "metadata": {
        "id": "3Yqv7C94MC4g",
        "colab_type": "code",
        "colab": {}
      },
      "source": [
        ""
      ],
      "execution_count": null,
      "outputs": []
    }
  ]
}